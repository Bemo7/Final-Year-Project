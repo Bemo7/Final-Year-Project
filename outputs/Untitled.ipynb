{
 "cells": [
  {
   "cell_type": "code",
   "execution_count": 1,
   "id": "91c07fc5",
   "metadata": {},
   "outputs": [],
   "source": [
    "from pandas import read_csv"
   ]
  },
  {
   "cell_type": "code",
   "execution_count": 2,
   "id": "38b2f988",
   "metadata": {},
   "outputs": [
    {
     "data": {
      "text/plain": [
       "array(['(vertigo) Paroymsal  Positional Vertigo', 'AIDS', 'Acne',\n",
       "       'Alcoholic hepatitis', 'Allergy', 'Arthritis', 'Bronchial Asthma',\n",
       "       'Cervical spondylosis', 'Chicken pox', 'Chronic cholestasis',\n",
       "       'Common Cold', 'Dengue', 'Diabetes ',\n",
       "       'Dimorphic hemmorhoids(piles)', 'Drug Reaction',\n",
       "       'Fungal infection', 'GERD', 'Gastroenteritis', 'Heart attack',\n",
       "       'Hepatitis B', 'Hepatitis C', 'Hepatitis D', 'Hepatitis E',\n",
       "       'Hypertension ', 'Hyperthyroidism', 'Hypoglycemia',\n",
       "       'Hypothyroidism', 'Impetigo', 'Jaundice', 'Malaria', 'Migraine',\n",
       "       'Osteoarthristis', 'Paralysis (brain hemorrhage)',\n",
       "       'Peptic ulcer diseae', 'Pneumonia', 'Psoriasis', 'Tuberculosis',\n",
       "       'Typhoid', 'Urinary tract infection', 'Varicose veins',\n",
       "       'hepatitis A'], dtype=object)"
      ]
     },
     "execution_count": 2,
     "metadata": {},
     "output_type": "execute_result"
    }
   ],
   "source": [
    "sym = read_csv(\"diagnosis.csv\", header=  None).values[:,0]\n",
    "sym"
   ]
  },
  {
   "cell_type": "code",
   "execution_count": 3,
   "id": "51d5ebb7",
   "metadata": {},
   "outputs": [],
   "source": [
    "import requests\n",
    "\n",
    "S = requests.Session()\n",
    "\n",
    "URL = \"https://en.wikipedia.org/w/api.php\"\n",
    "\n",
    "SEARCHPAGE = \"AIDS\"\n",
    "\n",
    "PARAMS = {\n",
    "    \"action\": \"parse\",\n",
    "    \"format\": \"json\",\n",
    "    \"summary\": \"\",\n",
    "    \"page\": \"AIDS\",\n",
    "    \"redirects\": 1,\n",
    "    \"prop\": \"displaytitle|properties|wikitext\",\n",
    "    \"contentformat\": \"application/json\",\n",
    "    \"contentmodel\": \"json\"\n",
    "}\n",
    "\n",
    "R = S.get(url=URL, params=PARAMS)\n",
    "DATA = R.json()\n",
    "\n",
    "# if DATA['query']['search'][0]['title'] == SEARCHPAGE:\n",
    "#     print(\"Your search page '\" + SEARCHPAGE + \"' exists on English Wikipedia\")\n",
    "    \n",
    "DATA"
   ]
  },
  {
   "cell_type": "code",
   "execution_count": 5,
   "id": "687eeecc",
   "metadata": {},
   "outputs": [],
   "source": [
    "# DATA['parse']['wikitext']['*']"
   ]
  },
  {
   "cell_type": "code",
   "execution_count": 7,
   "id": "50193f60",
   "metadata": {},
   "outputs": [],
   "source": [
    "from pandas.io.html import read_html"
   ]
  },
  {
   "cell_type": "code",
   "execution_count": 51,
   "id": "81da3571",
   "metadata": {},
   "outputs": [
    {
     "name": "stdout",
     "output_type": "stream",
     "text": [
      "Extracted 1 infoboxes\n"
     ]
    }
   ],
   "source": [
    "diagnosis = 'Hepatitis_E'\n",
    "page = 'https://en.wikipedia.org/wiki/'+diagnosis\n",
    "infoboxes = read_html(page,attrs={\"class\":\"infobox\"})\n",
    "print (\"Extracted {num} infoboxes\".format(num=len(infoboxes)))"
   ]
  },
  {
   "cell_type": "code",
   "execution_count": 82,
   "id": "6dff2c67",
   "metadata": {
    "scrolled": true
   },
   "outputs": [],
   "source": [
    "infobox =infoboxes[0].values"
   ]
  },
  {
   "cell_type": "code",
   "execution_count": 106,
   "id": "f5074d50",
   "metadata": {},
   "outputs": [
    {
     "data": {
      "text/plain": [
       "{nan: nan,\n",
       " 'Hepatitis E virus': 'Hepatitis E virus',\n",
       " 'Specialty': 'Infectious disease, Hepatology',\n",
       " 'Symptoms': 'Nausea, jaundice[1]',\n",
       " 'Complications': 'Liver failure[1]',\n",
       " 'Causes': 'Hepatitis E virus (HEV)[1]',\n",
       " 'Diagnostic method': 'Blood test[1]',\n",
       " 'Differential diagnosis': 'Hepatitis A[2]',\n",
       " 'Treatment': 'Rest, ribavirin (if chronic)[1]',\n",
       " 'Frequency': '28 million worldwide (2013)[3]'}"
      ]
     },
     "execution_count": 106,
     "metadata": {},
     "output_type": "execute_result"
    }
   ],
   "source": [
    "dict((infobox[i][0], infobox[i][1]) for i in range(len(infobox)) )"
   ]
  },
  {
   "cell_type": "code",
   "execution_count": 104,
   "id": "8a3bc4e9",
   "metadata": {},
   "outputs": [
    {
     "ename": "ValueError",
     "evalue": "dictionary update sequence element #0 has length 3; 2 is required",
     "output_type": "error",
     "traceback": [
      "\u001b[1;31m---------------------------------------------------------------------------\u001b[0m",
      "\u001b[1;31mValueError\u001b[0m                                Traceback (most recent call last)",
      "Input \u001b[1;32mIn [104]\u001b[0m, in \u001b[0;36m<cell line: 1>\u001b[1;34m()\u001b[0m\n\u001b[1;32m----> 1\u001b[0m \u001b[38;5;28;43mdict\u001b[39;49m\u001b[43m(\u001b[49m\u001b[43m(\u001b[49m\u001b[38;5;124;43m\"\u001b[39;49m\u001b[38;5;124;43mdsf\u001b[39;49m\u001b[38;5;124;43m\"\u001b[39;49m\u001b[43m,\u001b[49m\u001b[38;5;124;43m\"\u001b[39;49m\u001b[38;5;124;43mjogd\u001b[39;49m\u001b[38;5;124;43m\"\u001b[39;49m\u001b[43m)\u001b[49m\u001b[43m)\u001b[49m\n",
      "\u001b[1;31mValueError\u001b[0m: dictionary update sequence element #0 has length 3; 2 is required"
     ]
    }
   ],
   "source": [
    "dict((\"dsf\",\"jogd\"))"
   ]
  },
  {
   "cell_type": "code",
   "execution_count": null,
   "id": "aa5fe273",
   "metadata": {},
   "outputs": [],
   "source": []
  }
 ],
 "metadata": {
  "kernelspec": {
   "display_name": "Python 3 (ipykernel)",
   "language": "python",
   "name": "python3"
  },
  "language_info": {
   "codemirror_mode": {
    "name": "ipython",
    "version": 3
   },
   "file_extension": ".py",
   "mimetype": "text/x-python",
   "name": "python",
   "nbconvert_exporter": "python",
   "pygments_lexer": "ipython3",
   "version": "3.10.4"
  }
 },
 "nbformat": 4,
 "nbformat_minor": 5
}
