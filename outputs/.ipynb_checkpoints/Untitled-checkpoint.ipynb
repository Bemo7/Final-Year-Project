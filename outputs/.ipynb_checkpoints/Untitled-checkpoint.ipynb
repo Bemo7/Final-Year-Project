{
 "cells": [
  {
   "cell_type": "code",
   "execution_count": 1,
   "id": "91c07fc5",
   "metadata": {},
   "outputs": [],
   "source": [
    "from pandas import read_csv"
   ]
  },
  {
   "cell_type": "code",
   "execution_count": 2,
   "id": "38b2f988",
   "metadata": {},
   "outputs": [
    {
     "data": {
      "text/plain": [
       "array(['(vertigo) Paroymsal  Positional Vertigo', 'AIDS', 'Acne',\n",
       "       'Alcoholic hepatitis', 'Allergy', 'Arthritis', 'Bronchial Asthma',\n",
       "       'Cervical spondylosis', 'Chicken pox', 'Chronic cholestasis',\n",
       "       'Common Cold', 'Dengue', 'Diabetes ',\n",
       "       'Dimorphic hemmorhoids(piles)', 'Drug Reaction',\n",
       "       'Fungal infection', 'GERD', 'Gastroenteritis', 'Heart attack',\n",
       "       'Hepatitis B', 'Hepatitis C', 'Hepatitis D', 'Hepatitis E',\n",
       "       'Hypertension ', 'Hyperthyroidism', 'Hypoglycemia',\n",
       "       'Hypothyroidism', 'Impetigo', 'Jaundice', 'Malaria', 'Migraine',\n",
       "       'Osteoarthristis', 'Paralysis (brain hemorrhage)',\n",
       "       'Peptic ulcer diseae', 'Pneumonia', 'Psoriasis', 'Tuberculosis',\n",
       "       'Typhoid', 'Urinary tract infection', 'Varicose veins',\n",
       "       'hepatitis A'], dtype=object)"
      ]
     },
     "execution_count": 2,
     "metadata": {},
     "output_type": "execute_result"
    }
   ],
   "source": [
    "sym = read_csv(\"diagnosis.csv\", header=  None).values[:,0]\n",
    "sym"
   ]
  },
  {
   "cell_type": "code",
   "execution_count": 3,
   "id": "51d5ebb7",
   "metadata": {},
   "outputs": [],
   "source": [
    "import requests\n",
    "\n",
    "S = requests.Session()\n",
    "\n",
    "URL = \"https://en.wikipedia.org/w/api.php\"\n",
    "\n",
    "SEARCHPAGE = \"AIDS\"\n",
    "\n",
    "PARAMS = {\n",
    "    \"action\": \"parse\",\n",
    "    \"format\": \"json\",\n",
    "    \"summary\": \"\",\n",
    "    \"page\": \"AIDS\",\n",
    "    \"redirects\": 1,\n",
    "    \"prop\": \"displaytitle|properties|wikitext\",\n",
    "    \"contentformat\": \"application/json\",\n",
    "    \"contentmodel\": \"json\"\n",
    "}\n",
    "\n",
    "R = S.get(url=URL, params=PARAMS)\n",
    "DATA = R.json()\n",
    "\n",
    "# if DATA['query']['search'][0]['title'] == SEARCHPAGE:\n",
    "#     print(\"Your search page '\" + SEARCHPAGE + \"' exists on English Wikipedia\")\n",
    "    \n",
    "DATA"
   ]
  },
  {
   "cell_type": "code",
   "execution_count": 5,
   "id": "687eeecc",
   "metadata": {},
   "outputs": [],
   "source": [
    "# DATA['parse']['wikitext']['*']"
   ]
  },
  {
   "cell_type": "code",
   "execution_count": 7,
   "id": "50193f60",
   "metadata": {},
   "outputs": [],
   "source": [
    "from pandas.io.html import read_html"
   ]
  },
  {
   "cell_type": "code",
   "execution_count": 51,
   "id": "81da3571",
   "metadata": {},
   "outputs": [
    {
     "name": "stdout",
     "output_type": "stream",
     "text": [
      "Extracted 1 infoboxes\n"
     ]
    }
   ],
   "source": [
    "diagnosis = 'Hepatitis_E'\n",
    "page = 'https://en.wikipedia.org/wiki/'+diagnosis\n",
    "infoboxes = read_html(page,attrs={\"class\":\"infobox\"})\n",
    "print (\"Extracted {num} infoboxes\".format(num=len(infoboxes)))"
   ]
  },
  {
   "cell_type": "code",
   "execution_count": 80,
   "id": "6dff2c67",
   "metadata": {
    "scrolled": true
   },
   "outputs": [
    {
     "data": {
      "text/html": [
       "<div>\n",
       "<style scoped>\n",
       "    .dataframe tbody tr th:only-of-type {\n",
       "        vertical-align: middle;\n",
       "    }\n",
       "\n",
       "    .dataframe tbody tr th {\n",
       "        vertical-align: top;\n",
       "    }\n",
       "\n",
       "    .dataframe thead th {\n",
       "        text-align: right;\n",
       "    }\n",
       "</style>\n",
       "<table border=\"1\" class=\"dataframe\">\n",
       "  <thead>\n",
       "    <tr style=\"text-align: right;\">\n",
       "      <th></th>\n",
       "      <th>Hepatitis E</th>\n",
       "      <th>Hepatitis E.1</th>\n",
       "    </tr>\n",
       "  </thead>\n",
       "  <tbody>\n",
       "    <tr>\n",
       "      <th>0</th>\n",
       "      <td>NaN</td>\n",
       "      <td>NaN</td>\n",
       "    </tr>\n",
       "    <tr>\n",
       "      <th>1</th>\n",
       "      <td>Hepatitis E virus</td>\n",
       "      <td>Hepatitis E virus</td>\n",
       "    </tr>\n",
       "    <tr>\n",
       "      <th>2</th>\n",
       "      <td>Specialty</td>\n",
       "      <td>Infectious disease, Hepatology</td>\n",
       "    </tr>\n",
       "    <tr>\n",
       "      <th>3</th>\n",
       "      <td>Symptoms</td>\n",
       "      <td>Nausea, jaundice[1]</td>\n",
       "    </tr>\n",
       "    <tr>\n",
       "      <th>4</th>\n",
       "      <td>Complications</td>\n",
       "      <td>Liver failure[1]</td>\n",
       "    </tr>\n",
       "    <tr>\n",
       "      <th>5</th>\n",
       "      <td>Causes</td>\n",
       "      <td>Hepatitis E virus (HEV)[1]</td>\n",
       "    </tr>\n",
       "    <tr>\n",
       "      <th>6</th>\n",
       "      <td>Diagnostic method</td>\n",
       "      <td>Blood test[1]</td>\n",
       "    </tr>\n",
       "    <tr>\n",
       "      <th>7</th>\n",
       "      <td>Differential diagnosis</td>\n",
       "      <td>Hepatitis A[2]</td>\n",
       "    </tr>\n",
       "    <tr>\n",
       "      <th>8</th>\n",
       "      <td>Treatment</td>\n",
       "      <td>Rest, ribavirin (if chronic)[1]</td>\n",
       "    </tr>\n",
       "    <tr>\n",
       "      <th>9</th>\n",
       "      <td>Frequency</td>\n",
       "      <td>28 million worldwide (2013)[3]</td>\n",
       "    </tr>\n",
       "  </tbody>\n",
       "</table>\n",
       "</div>"
      ],
      "text/plain": [
       "              Hepatitis E                    Hepatitis E.1\n",
       "0                     NaN                              NaN\n",
       "1       Hepatitis E virus                Hepatitis E virus\n",
       "2               Specialty   Infectious disease, Hepatology\n",
       "3                Symptoms              Nausea, jaundice[1]\n",
       "4           Complications                 Liver failure[1]\n",
       "5                  Causes       Hepatitis E virus (HEV)[1]\n",
       "6       Diagnostic method                    Blood test[1]\n",
       "7  Differential diagnosis                   Hepatitis A[2]\n",
       "8               Treatment  Rest, ribavirin (if chronic)[1]\n",
       "9               Frequency   28 million worldwide (2013)[3]"
      ]
     },
     "execution_count": 80,
     "metadata": {},
     "output_type": "execute_result"
    }
   ],
   "source": [
    "infoboxes[0].val"
   ]
  },
  {
   "cell_type": "code",
   "execution_count": 67,
   "id": "f5074d50",
   "metadata": {},
   "outputs": [
    {
     "data": {
      "text/plain": [
       "False"
      ]
     },
     "execution_count": 67,
     "metadata": {},
     "output_type": "execute_result"
    }
   ],
   "source": [
    "'()' in \"(dajskjd)\""
   ]
  },
  {
   "cell_type": "code",
   "execution_count": null,
   "id": "0a8041db",
   "metadata": {},
   "outputs": [],
   "source": []
  }
 ],
 "metadata": {
  "kernelspec": {
   "display_name": "Python 3 (ipykernel)",
   "language": "python",
   "name": "python3"
  },
  "language_info": {
   "codemirror_mode": {
    "name": "ipython",
    "version": 3
   },
   "file_extension": ".py",
   "mimetype": "text/x-python",
   "name": "python",
   "nbconvert_exporter": "python",
   "pygments_lexer": "ipython3",
   "version": "3.10.4"
  }
 },
 "nbformat": 4,
 "nbformat_minor": 5
}
